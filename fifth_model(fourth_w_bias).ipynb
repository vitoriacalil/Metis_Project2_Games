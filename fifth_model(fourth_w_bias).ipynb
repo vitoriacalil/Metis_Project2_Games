{
 "cells": [
  {
   "cell_type": "code",
   "execution_count": 1,
   "metadata": {},
   "outputs": [],
   "source": [
    "import pandas as pd\n",
    "import numpy as np\n",
    "import sklearn\n",
    "from sklearn import datasets\n",
    "from sklearn.model_selection import train_test_split\n",
    "import seaborn as sns\n",
    "import matplotlib.pyplot as plt\n",
    "\n",
    "from sklearn.preprocessing import PolynomialFeatures, StandardScaler\n",
    "from sklearn.metrics import r2_score, mean_squared_error\n",
    "from sklearn.linear_model import LassoCV, RidgeCV, Lasso\n",
    "from sklearn.pipeline import Pipeline"
   ]
  },
  {
   "cell_type": "code",
   "execution_count": 2,
   "metadata": {},
   "outputs": [],
   "source": [
    "df = pd.read_csv('df_above_med.csv')\n",
    "df = df.drop(columns='Unnamed: 0')"
   ]
  },
  {
   "cell_type": "code",
   "execution_count": 3,
   "metadata": {},
   "outputs": [
    {
     "data": {
      "text/html": [
       "<div>\n",
       "<style scoped>\n",
       "    .dataframe tbody tr th:only-of-type {\n",
       "        vertical-align: middle;\n",
       "    }\n",
       "\n",
       "    .dataframe tbody tr th {\n",
       "        vertical-align: top;\n",
       "    }\n",
       "\n",
       "    .dataframe thead th {\n",
       "        text-align: right;\n",
       "    }\n",
       "</style>\n",
       "<table border=\"1\" class=\"dataframe\">\n",
       "  <thead>\n",
       "    <tr style=\"text-align: right;\">\n",
       "      <th></th>\n",
       "      <th>genre</th>\n",
       "      <th>name</th>\n",
       "      <th>platform</th>\n",
       "      <th>ratings</th>\n",
       "      <th>release_date</th>\n",
       "      <th>total_sales</th>\n",
       "      <th>time_delta</th>\n",
       "      <th>year</th>\n",
       "      <th>month</th>\n",
       "      <th>Rank</th>\n",
       "      <th>Publisher</th>\n",
       "      <th>log_total_sales</th>\n",
       "      <th>games_by_publisher</th>\n",
       "      <th>total_sales_by_publisher</th>\n",
       "      <th>total_games_by_genre</th>\n",
       "      <th>publisher_Quartile(total_sales)</th>\n",
       "    </tr>\n",
       "  </thead>\n",
       "  <tbody>\n",
       "    <tr>\n",
       "      <th>0</th>\n",
       "      <td>Action</td>\n",
       "      <td>Saints Row 2</td>\n",
       "      <td>X360</td>\n",
       "      <td>M</td>\n",
       "      <td>2008-10-14</td>\n",
       "      <td>3.07</td>\n",
       "      <td>3653</td>\n",
       "      <td>2008</td>\n",
       "      <td>10</td>\n",
       "      <td>462.0</td>\n",
       "      <td>THQ</td>\n",
       "      <td>1.403643</td>\n",
       "      <td>74</td>\n",
       "      <td>59.13</td>\n",
       "      <td>342</td>\n",
       "      <td>75%_Publisher</td>\n",
       "    </tr>\n",
       "    <tr>\n",
       "      <th>1</th>\n",
       "      <td>Action</td>\n",
       "      <td>Rugrats in Paris: The Movie</td>\n",
       "      <td>PS</td>\n",
       "      <td>E</td>\n",
       "      <td>2000-10-29</td>\n",
       "      <td>3.52</td>\n",
       "      <td>6560</td>\n",
       "      <td>2000</td>\n",
       "      <td>10</td>\n",
       "      <td>368.0</td>\n",
       "      <td>THQ</td>\n",
       "      <td>1.508512</td>\n",
       "      <td>74</td>\n",
       "      <td>59.13</td>\n",
       "      <td>342</td>\n",
       "      <td>75%_Publisher</td>\n",
       "    </tr>\n",
       "    <tr>\n",
       "      <th>2</th>\n",
       "      <td>Action</td>\n",
       "      <td>Dynasty Warriors 3</td>\n",
       "      <td>PS2</td>\n",
       "      <td>T</td>\n",
       "      <td>2001-11-26</td>\n",
       "      <td>1.87</td>\n",
       "      <td>6167</td>\n",
       "      <td>2001</td>\n",
       "      <td>11</td>\n",
       "      <td>923.0</td>\n",
       "      <td>THQ</td>\n",
       "      <td>1.054312</td>\n",
       "      <td>74</td>\n",
       "      <td>59.13</td>\n",
       "      <td>342</td>\n",
       "      <td>75%_Publisher</td>\n",
       "    </tr>\n",
       "    <tr>\n",
       "      <th>3</th>\n",
       "      <td>Action</td>\n",
       "      <td>Saints Row 2</td>\n",
       "      <td>PS3</td>\n",
       "      <td>M</td>\n",
       "      <td>2008-10-14</td>\n",
       "      <td>1.68</td>\n",
       "      <td>3653</td>\n",
       "      <td>2008</td>\n",
       "      <td>10</td>\n",
       "      <td>462.0</td>\n",
       "      <td>THQ</td>\n",
       "      <td>0.985817</td>\n",
       "      <td>74</td>\n",
       "      <td>59.13</td>\n",
       "      <td>342</td>\n",
       "      <td>75%_Publisher</td>\n",
       "    </tr>\n",
       "    <tr>\n",
       "      <th>4</th>\n",
       "      <td>Action</td>\n",
       "      <td>The Incredibles</td>\n",
       "      <td>GBA</td>\n",
       "      <td>E</td>\n",
       "      <td>2004-10-31</td>\n",
       "      <td>2.06</td>\n",
       "      <td>5097</td>\n",
       "      <td>2004</td>\n",
       "      <td>10</td>\n",
       "      <td>668.0</td>\n",
       "      <td>THQ</td>\n",
       "      <td>1.118415</td>\n",
       "      <td>74</td>\n",
       "      <td>59.13</td>\n",
       "      <td>342</td>\n",
       "      <td>75%_Publisher</td>\n",
       "    </tr>\n",
       "  </tbody>\n",
       "</table>\n",
       "</div>"
      ],
      "text/plain": [
       "    genre                         name platform ratings release_date  \\\n",
       "0  Action                 Saints Row 2     X360       M   2008-10-14   \n",
       "1  Action  Rugrats in Paris: The Movie       PS       E   2000-10-29   \n",
       "2  Action           Dynasty Warriors 3      PS2       T   2001-11-26   \n",
       "3  Action                 Saints Row 2      PS3       M   2008-10-14   \n",
       "4  Action              The Incredibles      GBA       E   2004-10-31   \n",
       "\n",
       "   total_sales  time_delta  year  month   Rank Publisher  log_total_sales  \\\n",
       "0         3.07        3653  2008     10  462.0       THQ         1.403643   \n",
       "1         3.52        6560  2000     10  368.0       THQ         1.508512   \n",
       "2         1.87        6167  2001     11  923.0       THQ         1.054312   \n",
       "3         1.68        3653  2008     10  462.0       THQ         0.985817   \n",
       "4         2.06        5097  2004     10  668.0       THQ         1.118415   \n",
       "\n",
       "   games_by_publisher  total_sales_by_publisher  total_games_by_genre  \\\n",
       "0                  74                     59.13                   342   \n",
       "1                  74                     59.13                   342   \n",
       "2                  74                     59.13                   342   \n",
       "3                  74                     59.13                   342   \n",
       "4                  74                     59.13                   342   \n",
       "\n",
       "  publisher_Quartile(total_sales)  \n",
       "0                   75%_Publisher  \n",
       "1                   75%_Publisher  \n",
       "2                   75%_Publisher  \n",
       "3                   75%_Publisher  \n",
       "4                   75%_Publisher  "
      ]
     },
     "execution_count": 3,
     "metadata": {},
     "output_type": "execute_result"
    }
   ],
   "source": [
    "df.head()"
   ]
  },
  {
   "cell_type": "markdown",
   "metadata": {},
   "source": [
    "# Vintage\n",
    "Change genre for all games released before 1995 to 'vintage'"
   ]
  },
  {
   "cell_type": "code",
   "execution_count": 4,
   "metadata": {},
   "outputs": [],
   "source": [
    "def func_vintage(row):\n",
    "    if row['year'] <= 1995:\n",
    "        return 'Vintage'\n",
    "    else:\n",
    "        return row['genre']\n",
    "df['genre'] = df.apply(func_vintage, axis=1)"
   ]
  },
  {
   "cell_type": "markdown",
   "metadata": {},
   "source": [
    "# Video Games in use"
   ]
  },
  {
   "cell_type": "code",
   "execution_count": 5,
   "metadata": {},
   "outputs": [],
   "source": [
    "def platform_edit(row):\n",
    "    if row['platform'] == 'GC':\n",
    "        return 'GB'\n",
    "    else:\n",
    "        return row['platform']\n",
    "df['platform'] = df.apply(platform_edit, axis=1)"
   ]
  },
  {
   "cell_type": "code",
   "execution_count": 6,
   "metadata": {},
   "outputs": [],
   "source": [
    "consoles = ['PS2', 'DS,GB', 'PS', 'Wii', 'X360', 'PS3', 'PS4', 'PSP', 'GBA', '3DS', 'NES', 'SNES', \n",
    "'XOne', 'N64', 'NS', 'WiiU', 'PSV', 'DC']\n",
    "df['console_check'] = df['platform'].isin(consoles)"
   ]
  },
  {
   "cell_type": "code",
   "execution_count": 7,
   "metadata": {},
   "outputs": [],
   "source": [
    "df = df[df['console_check'] != False]"
   ]
  },
  {
   "cell_type": "code",
   "execution_count": 8,
   "metadata": {},
   "outputs": [],
   "source": [
    "def platform_edit2(row):\n",
    "    if row['platform'] == 'PS2':\n",
    "        return 155\n",
    "    if row['platform'] == 'N64':\n",
    "        return 33\n",
    "    if row['platform'] == 'XOnes':\n",
    "        return 39\n",
    "    if row['platform'] == 'SNES':\n",
    "        return 49\n",
    "    if row['platform'] == 'NES':\n",
    "        return 62\n",
    "    if row['platform'] == '3DS':\n",
    "        return 73\n",
    "    if row['platform'] == 'GBA':\n",
    "        return 81\n",
    "    if row['platform'] == 'PSP':\n",
    "        return 82\n",
    "    if row['platform'] == 'PS4':\n",
    "        return 82\n",
    "    if row['platform'] == 'PS3':\n",
    "        return 84\n",
    "    if row['platform'] == 'X360':\n",
    "        return 84\n",
    "    if row['platform'] == 'Wii':\n",
    "        return 101\n",
    "    if row['platform'] == 'PS':\n",
    "        return 102\n",
    "    if row['platform'] == 'GB':\n",
    "        return 118\n",
    "    if row['platform'] == 'DS':\n",
    "        return 154\n",
    "    if row['platform'] == 'WiiU':\n",
    "        return 14\n",
    "    if row['platform'] == 'PSV':\n",
    "        return 12\n",
    "    if row['platform'] == 'DC':\n",
    "        return 9\n",
    "    \n",
    "df['platform_sales(mi)'] = df.apply(platform_edit2, axis=1)"
   ]
  },
  {
   "cell_type": "code",
   "execution_count": null,
   "metadata": {},
   "outputs": [],
   "source": [
    "# def platform_edit3(row):\n",
    "#     if row['platform'] == 'PS2':\n",
    "#         return 2000\n",
    "#     if row['platform'] == 'N64':\n",
    "#         return 1996\n",
    "#     if row['platform'] == 'XOnes':\n",
    "#         return 2013\n",
    "#     if row['platform'] == 'SNES':\n",
    "#         return 1990\n",
    "#     if row['platform'] == 'NES':\n",
    "#         return 1983\n",
    "#     if row['platform'] == '3DS':\n",
    "#         return 2001\n",
    "#     if row['platform'] == 'GBA':\n",
    "#         return 2001\n",
    "#     if row['platform'] == 'PSP':\n",
    "#         return 2004\n",
    "#     if row['platform'] == 'PS4':\n",
    "#         return 2013\n",
    "#     if row['platform'] == 'PS3':\n",
    "#         return 2006\n",
    "#     if row['platform'] == 'X360':\n",
    "#         return 2005\n",
    "#     if row['platform'] == 'Wii':\n",
    "#         return 2006\n",
    "#     if row['platform'] == 'PS':\n",
    "#         return 1994\n",
    "#     if row['platform'] == 'GB':\n",
    "#         return 1989\n",
    "#     if row['platform'] == 'DS':\n",
    "#         return 2004\n",
    "#     if row['platform'] == 'WiiU':\n",
    "#         return 2012\n",
    "#     if row['platform'] == 'PSV':\n",
    "#         return 2011\n",
    "#     if row['platform'] == 'DC':\n",
    "#         return 1998\n",
    "    \n",
    "# df['platform_release'] = df.apply(platform_edit3, axis=1)"
   ]
  },
  {
   "cell_type": "code",
   "execution_count": 9,
   "metadata": {},
   "outputs": [
    {
     "data": {
      "text/plain": [
       "genre                              1772\n",
       "name                               1772\n",
       "platform                           1772\n",
       "ratings                            1759\n",
       "release_date                       1772\n",
       "total_sales                        1772\n",
       "time_delta                         1772\n",
       "year                               1772\n",
       "month                              1772\n",
       "Rank                               1772\n",
       "Publisher                          1772\n",
       "log_total_sales                    1772\n",
       "games_by_publisher                 1772\n",
       "total_sales_by_publisher           1772\n",
       "total_games_by_genre               1772\n",
       "publisher_Quartile(total_sales)    1772\n",
       "console_check                      1772\n",
       "platform_sales(mi)                 1757\n",
       "dtype: int64"
      ]
     },
     "execution_count": 9,
     "metadata": {},
     "output_type": "execute_result"
    }
   ],
   "source": [
    "df.count()"
   ]
  },
  {
   "cell_type": "code",
   "execution_count": 10,
   "metadata": {},
   "outputs": [],
   "source": [
    "df = df.drop(columns='console_check')"
   ]
  },
  {
   "cell_type": "code",
   "execution_count": 11,
   "metadata": {},
   "outputs": [
    {
     "data": {
      "text/html": [
       "<div>\n",
       "<style scoped>\n",
       "    .dataframe tbody tr th:only-of-type {\n",
       "        vertical-align: middle;\n",
       "    }\n",
       "\n",
       "    .dataframe tbody tr th {\n",
       "        vertical-align: top;\n",
       "    }\n",
       "\n",
       "    .dataframe thead th {\n",
       "        text-align: right;\n",
       "    }\n",
       "</style>\n",
       "<table border=\"1\" class=\"dataframe\">\n",
       "  <thead>\n",
       "    <tr style=\"text-align: right;\">\n",
       "      <th></th>\n",
       "      <th>genre</th>\n",
       "      <th>name</th>\n",
       "      <th>platform</th>\n",
       "      <th>ratings</th>\n",
       "      <th>release_date</th>\n",
       "      <th>total_sales</th>\n",
       "      <th>time_delta</th>\n",
       "      <th>year</th>\n",
       "      <th>month</th>\n",
       "      <th>Rank</th>\n",
       "      <th>Publisher</th>\n",
       "      <th>log_total_sales</th>\n",
       "      <th>games_by_publisher</th>\n",
       "      <th>total_sales_by_publisher</th>\n",
       "      <th>total_games_by_genre</th>\n",
       "      <th>publisher_Quartile(total_sales)</th>\n",
       "      <th>platform_sales(mi)</th>\n",
       "    </tr>\n",
       "  </thead>\n",
       "  <tbody>\n",
       "    <tr>\n",
       "      <th>0</th>\n",
       "      <td>Action</td>\n",
       "      <td>Saints Row 2</td>\n",
       "      <td>X360</td>\n",
       "      <td>M</td>\n",
       "      <td>2008-10-14</td>\n",
       "      <td>3.07</td>\n",
       "      <td>3653</td>\n",
       "      <td>2008</td>\n",
       "      <td>10</td>\n",
       "      <td>462.0</td>\n",
       "      <td>THQ</td>\n",
       "      <td>1.403643</td>\n",
       "      <td>74</td>\n",
       "      <td>59.13</td>\n",
       "      <td>342</td>\n",
       "      <td>75%_Publisher</td>\n",
       "      <td>84.0</td>\n",
       "    </tr>\n",
       "    <tr>\n",
       "      <th>1</th>\n",
       "      <td>Action</td>\n",
       "      <td>Rugrats in Paris: The Movie</td>\n",
       "      <td>PS</td>\n",
       "      <td>E</td>\n",
       "      <td>2000-10-29</td>\n",
       "      <td>3.52</td>\n",
       "      <td>6560</td>\n",
       "      <td>2000</td>\n",
       "      <td>10</td>\n",
       "      <td>368.0</td>\n",
       "      <td>THQ</td>\n",
       "      <td>1.508512</td>\n",
       "      <td>74</td>\n",
       "      <td>59.13</td>\n",
       "      <td>342</td>\n",
       "      <td>75%_Publisher</td>\n",
       "      <td>102.0</td>\n",
       "    </tr>\n",
       "    <tr>\n",
       "      <th>2</th>\n",
       "      <td>Action</td>\n",
       "      <td>Dynasty Warriors 3</td>\n",
       "      <td>PS2</td>\n",
       "      <td>T</td>\n",
       "      <td>2001-11-26</td>\n",
       "      <td>1.87</td>\n",
       "      <td>6167</td>\n",
       "      <td>2001</td>\n",
       "      <td>11</td>\n",
       "      <td>923.0</td>\n",
       "      <td>THQ</td>\n",
       "      <td>1.054312</td>\n",
       "      <td>74</td>\n",
       "      <td>59.13</td>\n",
       "      <td>342</td>\n",
       "      <td>75%_Publisher</td>\n",
       "      <td>155.0</td>\n",
       "    </tr>\n",
       "    <tr>\n",
       "      <th>3</th>\n",
       "      <td>Action</td>\n",
       "      <td>Saints Row 2</td>\n",
       "      <td>PS3</td>\n",
       "      <td>M</td>\n",
       "      <td>2008-10-14</td>\n",
       "      <td>1.68</td>\n",
       "      <td>3653</td>\n",
       "      <td>2008</td>\n",
       "      <td>10</td>\n",
       "      <td>462.0</td>\n",
       "      <td>THQ</td>\n",
       "      <td>0.985817</td>\n",
       "      <td>74</td>\n",
       "      <td>59.13</td>\n",
       "      <td>342</td>\n",
       "      <td>75%_Publisher</td>\n",
       "      <td>84.0</td>\n",
       "    </tr>\n",
       "    <tr>\n",
       "      <th>4</th>\n",
       "      <td>Action</td>\n",
       "      <td>The Incredibles</td>\n",
       "      <td>GBA</td>\n",
       "      <td>E</td>\n",
       "      <td>2004-10-31</td>\n",
       "      <td>2.06</td>\n",
       "      <td>5097</td>\n",
       "      <td>2004</td>\n",
       "      <td>10</td>\n",
       "      <td>668.0</td>\n",
       "      <td>THQ</td>\n",
       "      <td>1.118415</td>\n",
       "      <td>74</td>\n",
       "      <td>59.13</td>\n",
       "      <td>342</td>\n",
       "      <td>75%_Publisher</td>\n",
       "      <td>81.0</td>\n",
       "    </tr>\n",
       "  </tbody>\n",
       "</table>\n",
       "</div>"
      ],
      "text/plain": [
       "    genre                         name platform ratings release_date  \\\n",
       "0  Action                 Saints Row 2     X360       M   2008-10-14   \n",
       "1  Action  Rugrats in Paris: The Movie       PS       E   2000-10-29   \n",
       "2  Action           Dynasty Warriors 3      PS2       T   2001-11-26   \n",
       "3  Action                 Saints Row 2      PS3       M   2008-10-14   \n",
       "4  Action              The Incredibles      GBA       E   2004-10-31   \n",
       "\n",
       "   total_sales  time_delta  year  month   Rank Publisher  log_total_sales  \\\n",
       "0         3.07        3653  2008     10  462.0       THQ         1.403643   \n",
       "1         3.52        6560  2000     10  368.0       THQ         1.508512   \n",
       "2         1.87        6167  2001     11  923.0       THQ         1.054312   \n",
       "3         1.68        3653  2008     10  462.0       THQ         0.985817   \n",
       "4         2.06        5097  2004     10  668.0       THQ         1.118415   \n",
       "\n",
       "   games_by_publisher  total_sales_by_publisher  total_games_by_genre  \\\n",
       "0                  74                     59.13                   342   \n",
       "1                  74                     59.13                   342   \n",
       "2                  74                     59.13                   342   \n",
       "3                  74                     59.13                   342   \n",
       "4                  74                     59.13                   342   \n",
       "\n",
       "  publisher_Quartile(total_sales)  platform_sales(mi)  \n",
       "0                   75%_Publisher                84.0  \n",
       "1                   75%_Publisher               102.0  \n",
       "2                   75%_Publisher               155.0  \n",
       "3                   75%_Publisher                84.0  \n",
       "4                   75%_Publisher                81.0  "
      ]
     },
     "execution_count": 11,
     "metadata": {},
     "output_type": "execute_result"
    }
   ],
   "source": [
    "df.head()"
   ]
  },
  {
   "cell_type": "code",
   "execution_count": 13,
   "metadata": {},
   "outputs": [
    {
     "data": {
      "image/png": "[encoded data removed]",
      "text/plain": [
       "<Figure size 432x288 with 2 Axes>"
      ]
     },
     "metadata": {
      "needs_background": "light"
     },
     "output_type": "display_data"
    }
   ],
   "source": [
    "mask = np.triu(np.array(np.ones(df[features].corr().shape)))\n",
    "#plot a hitmap\n",
    "sns.heatmap(df[features].corr(), cmap='viridis', mask=mask, annot=True)\n",
    "plt.title('Correlation Heatmap')\n",
    "plt.savefig(\"heatmap_2st.png\") \n",
    "# rank and log_total_sales has a high negative correlation\n",
    "#this happens because the lower the rank number, the higher the sales volume"
   ]
  },
  {
   "cell_type": "code",
   "execution_count": 14,
   "metadata": {},
   "outputs": [],
   "source": [
    "df = df.dropna()"
   ]
  },
  {
   "cell_type": "code",
   "execution_count": 15,
   "metadata": {},
   "outputs": [],
   "source": [
    "# Transform categorical features into values\n",
    "gm = pd.get_dummies(df[['genre','platform','ratings','time_delta','year', 'month','Rank', 'Publisher','platform_sales(mi)','total_games_by_genre','games_by_publisher']]) #can just apply it to the whole df\n",
    "gm['target'] = df['log_total_sales']\n",
    "# gm['time_delta'] = df['time_delta']"
   ]
  },
  {
   "cell_type": "code",
   "execution_count": 16,
   "metadata": {},
   "outputs": [],
   "source": [
    "X = gm.drop(columns='target')\n",
    "y = gm['target']"
   ]
  },
  {
   "cell_type": "code",
   "execution_count": 17,
   "metadata": {},
   "outputs": [],
   "source": [
    "from sklearn.model_selection import train_test_split\n",
    "# hold out 20% of the data for final testing\n",
    "X_train, X_holdout, y_train, y_holdout = train_test_split(X, y, test_size=.2, \n",
    "                                        random_state=42)\n",
    "# divide the data again, train and test\n",
    "X_train, X_test, y_train, y_test = train_test_split(X_train, y_train, test_size=.2, \n",
    "                                        random_state=42)"
   ]
  },
  {
   "cell_type": "code",
   "execution_count": 18,
   "metadata": {},
   "outputs": [
    {
     "data": {
      "text/plain": [
       "(0.6280306868698899, -30359699567269.348)"
      ]
     },
     "execution_count": 18,
     "metadata": {},
     "output_type": "execute_result"
    }
   ],
   "source": [
    "#Linear\n",
    "from sklearn.linear_model import LinearRegression\n",
    "\n",
    "# create a regression object\n",
    "lm = LinearRegression()\n",
    "# train the model using the training sets\n",
    "lm_fit = lm.fit(X_train,y_train)\n",
    "\n",
    "# R2/score\n",
    "train_score_linear = lm.score(X_train,y_train)\n",
    "test_score_linear = lm.score(X_test,y_test)\n",
    "train_score_linear, test_score_linear"
   ]
  },
  {
   "cell_type": "code",
   "execution_count": 19,
   "metadata": {},
   "outputs": [
    {
     "name": "stderr",
     "output_type": "stream",
     "text": [
      "/anaconda2/lib/python2.7/site-packages/sklearn/preprocessing/data.py:617: DataConversionWarning: Data with input dtype uint8, int64, float64 were all converted to float64 by StandardScaler.\n",
      "  return self.partial_fit(X, y)\n",
      "/anaconda2/lib/python2.7/site-packages/ipykernel_launcher.py:6: DataConversionWarning: Data with input dtype uint8, int64, float64 were all converted to float64 by StandardScaler.\n",
      "  \n",
      "/anaconda2/lib/python2.7/site-packages/ipykernel_launcher.py:9: DataConversionWarning: Data with input dtype uint8, int64, float64 were all converted to float64 by StandardScaler.\n",
      "  if __name__ == '__main__':\n",
      "/anaconda2/lib/python2.7/site-packages/ipykernel_launcher.py:12: DataConversionWarning: Data with input dtype uint8, int64, float64 were all converted to float64 by StandardScaler.\n",
      "  if sys.path[0] == '':\n"
     ]
    }
   ],
   "source": [
    "# Standidize scale\n",
    "std = StandardScaler()\n",
    "std.fit(X_train)\n",
    "\n",
    "# Apply scaler to train set\n",
    "X_tr = std.transform(X_train)\n",
    "\n",
    "# Apply the scaler to test set\n",
    "X_te = std.transform(X_test)\n",
    "\n",
    "# Apply the scaler to holdout set\n",
    "X_ho = std.transform(X_holdout)"
   ]
  },
  {
   "cell_type": "code",
   "execution_count": 20,
   "metadata": {},
   "outputs": [
    {
     "data": {
      "text/plain": [
       "(0.5888149922600737, 0.5603441434103937)"
      ]
     },
     "execution_count": 20,
     "metadata": {},
     "output_type": "execute_result"
    }
   ],
   "source": [
    "#lasso\n",
    "#dividing non-test dataset into 5 and testing automatically\n",
    "reg = LassoCV(cv=5, random_state=0).fit(X_tr, y_train)\n",
    "train_score_lasso = reg.score(X_tr, y_train)\n",
    "test_score_lasso = reg.score(X_te, y_test)\n",
    "lassocv_alpha = reg.alpha_\n",
    "train_score_lasso, test_score_lasso"
   ]
  },
  {
   "cell_type": "code",
   "execution_count": 21,
   "metadata": {},
   "outputs": [],
   "source": [
    "coef_dict = {}\n",
    "for coef, feat in zip(reg.coef_,X_train):\n",
    "    coef_dict[feat] = coef"
   ]
  },
  {
   "cell_type": "code",
   "execution_count": 22,
   "metadata": {},
   "outputs": [
    {
     "data": {
      "text/plain": [
       "{'Publisher_3DO': -0.0,\n",
       " 'Publisher_505 Games': 0.0,\n",
       " 'Publisher_AQ Interactive': 0.0,\n",
       " 'Publisher_ASC Games': 0.0,\n",
       " 'Publisher_ASCII Entertainment': -0.0,\n",
       " 'Publisher_Acclaim Entertainment': -0.0,\n",
       " 'Publisher_Activision': 0.05082855669213451,\n",
       " 'Publisher_Activision Value': 0.0,\n",
       " 'Publisher_Agetec': -0.0,\n",
       " 'Publisher_Aksys Games': 0.0,\n",
       " 'Publisher_ArtDink': 0.0,\n",
       " 'Publisher_Atari': -0.0,\n",
       " 'Publisher_Atlus': 0.0,\n",
       " 'Publisher_Avanquest': 0.0,\n",
       " 'Publisher_BAM! Entertainment': -0.0,\n",
       " 'Publisher_Banpresto': 0.0,\n",
       " 'Publisher_Bethesda Softworks': 0.025364827446575432,\n",
       " 'Publisher_Black Bean Games': 0.0,\n",
       " 'Publisher_Capcom': -0.0,\n",
       " 'Publisher_Codemasters': -0.0018694218472327835,\n",
       " 'Publisher_Crave Entertainment': 0.0,\n",
       " 'Publisher_D3Publisher': 0.0014846333504479625,\n",
       " 'Publisher_DHM Interactive': 0.0,\n",
       " 'Publisher_DTP Entertainment': -0.0,\n",
       " 'Publisher_Data Design Interactive': 0.0,\n",
       " 'Publisher_Deep Silver': -0.0,\n",
       " 'Publisher_Disney Interactive Studios': 0.0,\n",
       " 'Publisher_DreamWorks Interactive': 0.0,\n",
       " 'Publisher_ESP': -0.0,\n",
       " 'Publisher_Eidos Interactive': -0.0,\n",
       " 'Publisher_Electronic Arts': -0.0,\n",
       " 'Publisher_Electronic Arts Victor': 0.0,\n",
       " 'Publisher_Empire Interactive': 0.0,\n",
       " 'Publisher_Enix Corporation': -0.0,\n",
       " 'Publisher_Falcom Corporation': 0.0,\n",
       " 'Publisher_Focus Home Interactive': -0.0,\n",
       " 'Publisher_Fox Interactive': 0.0,\n",
       " 'Publisher_From Software': 0.0,\n",
       " 'Publisher_Funbox Media': 0.0,\n",
       " 'Publisher_GT Interactive': -0.0,\n",
       " 'Publisher_Game Factory': -0.0,\n",
       " 'Publisher_Gamebridge': -0.0019537184037536843,\n",
       " 'Publisher_Genki': -0.0,\n",
       " 'Publisher_Ghostlight': -0.0,\n",
       " 'Publisher_Global Star': 0.0,\n",
       " 'Publisher_Gotham Games': 0.0,\n",
       " 'Publisher_Gremlin Interactive Ltd': 0.0,\n",
       " 'Publisher_GungHo': 0.0,\n",
       " 'Publisher_Gust': -0.0,\n",
       " 'Publisher_Hasbro Interactive': 0.0,\n",
       " 'Publisher_Hudson Entertainment': 0.0,\n",
       " 'Publisher_Hudson Soft': 0.0,\n",
       " 'Publisher_Human Entertainment': 0.0,\n",
       " 'Publisher_Idea Factory': 0.0,\n",
       " 'Publisher_Idea Factory International': 0.0,\n",
       " 'Publisher_Ignition Entertainment': 0.0,\n",
       " 'Publisher_Infogrames': -0.0,\n",
       " 'Publisher_Jaleco': 0.0,\n",
       " 'Publisher_Jester Interactive': -0.0,\n",
       " 'Publisher_JoWood Productions': 0.0,\n",
       " 'Publisher_Kadokawa Shoten': -0.0,\n",
       " 'Publisher_Kemco': 0.0,\n",
       " 'Publisher_Konami Digital Entertainment': -0.0023803131184700053,\n",
       " 'Publisher_Laguna': -0.0,\n",
       " 'Publisher_LucasArts': 0.008887120475809107,\n",
       " 'Publisher_MTV Games': 0.0,\n",
       " 'Publisher_Majesco Entertainment': 0.0,\n",
       " 'Publisher_Marvelous Entertainment': 0.0,\n",
       " 'Publisher_Marvelous Interactive': 0.0,\n",
       " 'Publisher_Media Rings': -0.0,\n",
       " 'Publisher_Metro 3D': -0.0,\n",
       " 'Publisher_Microprose': 0.0,\n",
       " 'Publisher_Microsoft Game Studios': 0.026028368558627005,\n",
       " 'Publisher_Midas Interactive Entertainment': 0.0011785614763543644,\n",
       " 'Publisher_Midway Games': -0.0,\n",
       " 'Publisher_Mindscape': 0.0,\n",
       " 'Publisher_Moss': 0.0,\n",
       " 'Publisher_Namco Bandai Games': 0.0,\n",
       " 'Publisher_Natsume': -0.0,\n",
       " 'Publisher_Nintendo': 0.05445582220198645,\n",
       " 'Publisher_Nippon Ichi Software': 0.0,\n",
       " 'Publisher_Nobilis': -0.0,\n",
       " 'Publisher_Ocean': -0.0,\n",
       " 'Publisher_Oxygen Interactive': -0.0,\n",
       " 'Publisher_PQube': 0.0,\n",
       " 'Publisher_Pack In Soft': 0.0,\n",
       " 'Publisher_Play It': -0.0,\n",
       " 'Publisher_Playlogic Game Factory': -0.0,\n",
       " 'Publisher_Psygnosis': 0.0,\n",
       " 'Publisher_RTL': 0.0,\n",
       " 'Publisher_RedOctane': 0.0,\n",
       " 'Publisher_Rising Star Games': -0.0,\n",
       " 'Publisher_SCi': -0.0,\n",
       " 'Publisher_SNK': 0.0,\n",
       " 'Publisher_SNK Playmore': 0.0,\n",
       " 'Publisher_Sammy Corporation': -0.0,\n",
       " 'Publisher_Sega': -0.0,\n",
       " 'Publisher_Sony Computer Entertainment': 0.012999419273291356,\n",
       " 'Publisher_Sony Computer Entertainment Europe': 0.003000760326494047,\n",
       " 'Publisher_SouthPeak Games': -0.0,\n",
       " 'Publisher_Spike': -0.0,\n",
       " 'Publisher_Square Enix': -0.0,\n",
       " 'Publisher_SquareSoft': 0.0,\n",
       " 'Publisher_Sting': 0.0,\n",
       " 'Publisher_Success': 0.0,\n",
       " 'Publisher_Syscom': 0.0,\n",
       " 'Publisher_System 3 Arcade Software': -0.0,\n",
       " 'Publisher_TDK Mediactive': 0.0,\n",
       " 'Publisher_THQ': -0.0,\n",
       " 'Publisher_Taito': 0.0,\n",
       " 'Publisher_Takara': 0.0,\n",
       " 'Publisher_Takara Tomy': 0.0,\n",
       " 'Publisher_Take-Two Interactive': 0.03179241855350594,\n",
       " 'Publisher_Tecmo Koei': -0.0,\n",
       " 'Publisher_Telstar': 0.0,\n",
       " 'Publisher_Titus': -0.0,\n",
       " 'Publisher_Tomy Corporation': 0.0,\n",
       " 'Publisher_Ubisoft': -0.00022636636175574,\n",
       " 'Publisher_Ubisoft Annecy': -0.0,\n",
       " 'Publisher_Universal Interactive': -0.0,\n",
       " 'Publisher_Valve Software': 0.0,\n",
       " 'Publisher_Video System': -0.0,\n",
       " 'Publisher_Virgin Interactive': 0.001056227304547663,\n",
       " 'Publisher_Vivendi Games': -0.0,\n",
       " 'Publisher_Wanadoo': -0.0,\n",
       " 'Publisher_Warner Bros. Interactive Entertainment': -0.0,\n",
       " 'Publisher_Xicat Interactive': 0.0,\n",
       " 'Publisher_Xing Entertainment': -0.0,\n",
       " 'Publisher_Xplosiv': -0.0,\n",
       " 'Publisher_Xseed Games': 0.0,\n",
       " 'Publisher_Zoo Digital Publishing': 0.0029809349559691586,\n",
       " 'Publisher_Zushi Games': 0.0,\n",
       " 'Publisher_others': 0.0,\n",
       " 'Rank': -0.348883073829265,\n",
       " 'games_by_publisher': -0.0,\n",
       " 'genre_Action': 0.0,\n",
       " 'genre_Action-Adventure': -0.0,\n",
       " 'genre_Adventure': -0.008765255164877923,\n",
       " 'genre_Fighting': 0.0017394912540366293,\n",
       " 'genre_Misc': -0.0,\n",
       " 'genre_Others': 0.0,\n",
       " 'genre_Platform': 0.0,\n",
       " 'genre_Puzzle': -0.0,\n",
       " 'genre_Racing': 0.0,\n",
       " 'genre_Role-Playing': -0.0,\n",
       " 'genre_Shooter': 0.004476716020771196,\n",
       " 'genre_Simulation': -0.0,\n",
       " 'genre_Sports': -0.0,\n",
       " 'genre_Strategy': -0.0,\n",
       " 'genre_Vintage': -0.0,\n",
       " 'month': 0.017428698534166127,\n",
       " 'platform_3DS': -0.0,\n",
       " 'platform_DC': -0.0,\n",
       " 'platform_GBA': -0.0,\n",
       " 'platform_N64': 0.0012958937006456541,\n",
       " 'platform_PS': -0.0,\n",
       " 'platform_PS2': 0.0,\n",
       " 'platform_PS3': 0.0,\n",
       " 'platform_PS4': 0.035375798024653536,\n",
       " 'platform_PSP': -0.0,\n",
       " 'platform_PSV': -0.0004309656178127229,\n",
       " 'platform_SNES': 0.0,\n",
       " 'platform_Wii': 0.0,\n",
       " 'platform_WiiU': -0.0021677868754784472,\n",
       " 'platform_X360': -0.0,\n",
       " 'platform_sales(mi)': 0.0,\n",
       " 'ratings_E': -0.0,\n",
       " 'ratings_E10': 0.0,\n",
       " 'ratings_M': 0.04266862731364438,\n",
       " 'ratings_T': -0.0,\n",
       " 'time_delta': 0.0,\n",
       " 'total_games_by_genre': -0.0,\n",
       " 'year': -0.03445464480315366}"
      ]
     },
     "execution_count": 22,
     "metadata": {},
     "output_type": "execute_result"
    }
   ],
   "source": [
    "coef_dict"
   ]
  },
  {
   "cell_type": "code",
   "execution_count": 26,
   "metadata": {},
   "outputs": [
    {
     "data": {
      "text/plain": [
       "(0.6278404969689642, 0.5762063696760894, 0.4669387267361059)"
      ]
     },
     "execution_count": 26,
     "metadata": {},
     "output_type": "execute_result"
    }
   ],
   "source": [
    "#Ridge\n",
    "lm_ridge = RidgeCV(cv=5)\n",
    "ridge_fit = lm_ridge.fit(X_tr, y_train)\n",
    "train_score_ridge = ridge_fit.score(X_tr, y_train)\n",
    "test_score_ridge = ridge_fit.score(X_te, y_test)\n",
    "hold_score_ridge = ridge_fit.score(X_ho, y_holdout)\n",
    "train_score_ridge, test_score_ridge, hold_score_ridge"
   ]
  },
  {
   "cell_type": "code",
   "execution_count": 27,
   "metadata": {},
   "outputs": [
    {
     "name": "stdout",
     "output_type": "stream",
     "text": [
      "('Polynomial Regression:', -4.6238863074085967e+21)\n"
     ]
    }
   ],
   "source": [
    "#Polynomial\n",
    "\n",
    "poly = PolynomialFeatures()\n",
    "\n",
    "lm_poly = LinearRegression()\n",
    "lm_poly.fit(poly.fit_transform(X_tr), y_train)\n",
    "y_pred = lm_poly.predict(poly.transform(X_te))\n",
    "print(\"Polynomial Regression:\", r2_score(y_test, y_pred))"
   ]
  },
  {
   "cell_type": "code",
   "execution_count": 28,
   "metadata": {},
   "outputs": [
    {
     "data": {
      "image/png": "[encoded data removed]",
      "text/plain": [
       "<Figure size 432x288 with 1 Axes>"
      ]
     },
     "metadata": {
      "needs_background": "light"
     },
     "output_type": "display_data"
    }
   ],
   "source": [
    "test_score_linear = lm_ridge.score(X_ho,y_holdout)\n",
    "y_train_pred = lm_ridge.predict(X_tr)\n",
    "\n",
    "plt.scatter(y_train, y_train_pred, alpha=0.2)\n",
    "plt.xlabel('Actual Sales Volume')\n",
    "plt.ylabel('Predicted Sales Volume')\n",
    "plt.title('LASSO')\n",
    "# plt.plot([0, 400], [0, 400])\n",
    "plt.savefig(\"lasso_2st.png\")"
   ]
  },
  {
   "cell_type": "code",
   "execution_count": 30,
   "metadata": {},
   "outputs": [
    {
     "data": {
      "text/plain": [
       "14"
      ]
     },
     "execution_count": 30,
     "metadata": {},
     "output_type": "execute_result"
    }
   ],
   "source": [
    "df['platform'].nunique()"
   ]
  },
  {
   "cell_type": "code",
   "execution_count": 31,
   "metadata": {},
   "outputs": [],
   "source": [
    "df3 = df.sort_values('total_sales_by_publisher', ascending=False)"
   ]
  }
 ],
 "metadata": {
  "kernelspec": {
   "display_name": "Python 2",
   "language": "python",
   "name": "python2"
  },
  "language_info": {
   "codemirror_mode": {
    "name": "ipython",
    "version": 2
   },
   "file_extension": ".py",
   "mimetype": "text/x-python",
   "name": "python",
   "nbconvert_exporter": "python",
   "pygments_lexer": "ipython2",
   "version": "2.7.15"
  }
 },
 "nbformat": 4,
 "nbformat_minor": 2
}

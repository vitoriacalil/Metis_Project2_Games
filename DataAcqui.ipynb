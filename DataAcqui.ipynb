{
 "cells": [
  {
   "cell_type": "code",
   "execution_count": 1,
   "metadata": {},
   "outputs": [],
   "source": [
    "import pandas as pd\n",
    "import numpy as np\n",
    "import sklearn\n",
    "import matplotlib.pyplot as plt\n",
    "import seaborn as sns"
   ]
  },
  {
   "cell_type": "code",
   "execution_count": 2,
   "metadata": {},
   "outputs": [],
   "source": [
    "# create a df with the data from Kaggle dataset\n",
    "kaggle = pd.read_csv('vgsales.csv')"
   ]
  },
  {
   "cell_type": "code",
   "execution_count": 3,
   "metadata": {},
   "outputs": [],
   "source": [
    "kaggle = kaggle.drop(columns=['Platform', 'Year', 'NA_Sales', \n",
    "                              'EU_Sales', 'JP_Sales', 'Other_Sales', 'Global_Sales', 'Genre'])"
   ]
  },
  {
   "cell_type": "code",
   "execution_count": 4,
   "metadata": {},
   "outputs": [],
   "source": [
    "kaggle = kaggle.rename(columns={'Name':'name'})"
   ]
  },
  {
   "cell_type": "code",
   "execution_count": 5,
   "metadata": {},
   "outputs": [],
   "source": [
    "kaggle=kaggle.drop_duplicates(subset='name',keep='first')"
   ]
  },
  {
   "cell_type": "code",
   "execution_count": 6,
   "metadata": {},
   "outputs": [
    {
     "data": {
      "text/html": [
       "<div>\n",
       "<style scoped>\n",
       "    .dataframe tbody tr th:only-of-type {\n",
       "        vertical-align: middle;\n",
       "    }\n",
       "\n",
       "    .dataframe tbody tr th {\n",
       "        vertical-align: top;\n",
       "    }\n",
       "\n",
       "    .dataframe thead th {\n",
       "        text-align: right;\n",
       "    }\n",
       "</style>\n",
       "<table border=\"1\" class=\"dataframe\">\n",
       "  <thead>\n",
       "    <tr style=\"text-align: right;\">\n",
       "      <th></th>\n",
       "      <th>_type</th>\n",
       "      <th>critic_review</th>\n",
       "      <th>genre</th>\n",
       "      <th>name</th>\n",
       "      <th>platform</th>\n",
       "      <th>ratings</th>\n",
       "      <th>release_date</th>\n",
       "      <th>total_sales</th>\n",
       "      <th>url</th>\n",
       "    </tr>\n",
       "  </thead>\n",
       "  <tbody>\n",
       "    <tr>\n",
       "      <th>0</th>\n",
       "      <td>dict</td>\n",
       "      <td>NaN</td>\n",
       "      <td>&lt;p&gt;Role-Playing&lt;/p&gt;</td>\n",
       "      <td>Pokémon Heart Gold / Soul Silver Version</td>\n",
       "      <td>DS</td>\n",
       "      <td>&lt;center&gt;  &lt;img src=\"http://www.vgchartz.com/ga...</td>\n",
       "      <td>03/14/10</td>\n",
       "      <td>&lt;b&gt;11.78m&lt;/b&gt;</td>\n",
       "      <td>http://www.vgchartz.com/game/34267/pokemon-hea...</td>\n",
       "    </tr>\n",
       "    <tr>\n",
       "      <th>1</th>\n",
       "      <td>dict</td>\n",
       "      <td>NaN</td>\n",
       "      <td>&lt;p&gt;Simulation&lt;/p&gt;</td>\n",
       "      <td>The Sims 3</td>\n",
       "      <td>PC</td>\n",
       "      <td>&lt;center&gt;  &lt;img src=\"http://www.vgchartz.com/ga...</td>\n",
       "      <td>06/02/09</td>\n",
       "      <td>&lt;b&gt;7.96m&lt;/b&gt;</td>\n",
       "      <td>http://www.vgchartz.com/game/17805/the-sims-3/...</td>\n",
       "    </tr>\n",
       "    <tr>\n",
       "      <th>2</th>\n",
       "      <td>dict</td>\n",
       "      <td>NaN</td>\n",
       "      <td>&lt;p&gt;&lt;a href=\"/games/game.php?id=82917\"&gt;PC&lt;/a&gt;, ...</td>\n",
       "      <td>FIFA 15</td>\n",
       "      <td>PS4</td>\n",
       "      <td>&lt;center&gt;  &lt;img src=\"http://www.vgchartz.com/ga...</td>\n",
       "      <td>09/23/14</td>\n",
       "      <td>&lt;b&gt;6.31m&lt;/b&gt;</td>\n",
       "      <td>http://www.vgchartz.com/game/82916/fifa-15/?re...</td>\n",
       "    </tr>\n",
       "    <tr>\n",
       "      <th>3</th>\n",
       "      <td>dict</td>\n",
       "      <td>NaN</td>\n",
       "      <td>&lt;p&gt;Action&lt;/p&gt;</td>\n",
       "      <td>Saints Row 2</td>\n",
       "      <td>X360</td>\n",
       "      <td>&lt;center&gt;  &lt;img src=\"http://www.vgchartz.com/ga...</td>\n",
       "      <td>10/14/08</td>\n",
       "      <td>&lt;b&gt;3.07m&lt;/b&gt;</td>\n",
       "      <td>http://www.vgchartz.com/game/13813/saints-row-...</td>\n",
       "    </tr>\n",
       "    <tr>\n",
       "      <th>4</th>\n",
       "      <td>dict</td>\n",
       "      <td>NaN</td>\n",
       "      <td>&lt;p&gt;Platform&lt;/p&gt;</td>\n",
       "      <td>Ratchet &amp; Clank: Up Your Arsenal</td>\n",
       "      <td>PS2</td>\n",
       "      <td>&lt;center&gt;  &lt;img src=\"http://www.vgchartz.com/ga...</td>\n",
       "      <td>11/03/04</td>\n",
       "      <td>&lt;b&gt;2.57m&lt;/b&gt;</td>\n",
       "      <td>http://www.vgchartz.com/game/6406/ratchet-amp-...</td>\n",
       "    </tr>\n",
       "  </tbody>\n",
       "</table>\n",
       "</div>"
      ],
      "text/plain": [
       "  _type  critic_review                                              genre  \\\n",
       "0  dict            NaN                                <p>Role-Playing</p>   \n",
       "1  dict            NaN                                  <p>Simulation</p>   \n",
       "2  dict            NaN  <p><a href=\"/games/game.php?id=82917\">PC</a>, ...   \n",
       "3  dict            NaN                                      <p>Action</p>   \n",
       "4  dict            NaN                                    <p>Platform</p>   \n",
       "\n",
       "                                       name platform  \\\n",
       "0  Pokémon Heart Gold / Soul Silver Version       DS   \n",
       "1                                The Sims 3       PC   \n",
       "2                                   FIFA 15      PS4   \n",
       "3                              Saints Row 2     X360   \n",
       "4          Ratchet & Clank: Up Your Arsenal      PS2   \n",
       "\n",
       "                                             ratings release_date  \\\n",
       "0  <center>  <img src=\"http://www.vgchartz.com/ga...     03/14/10   \n",
       "1  <center>  <img src=\"http://www.vgchartz.com/ga...     06/02/09   \n",
       "2  <center>  <img src=\"http://www.vgchartz.com/ga...     09/23/14   \n",
       "3  <center>  <img src=\"http://www.vgchartz.com/ga...     10/14/08   \n",
       "4  <center>  <img src=\"http://www.vgchartz.com/ga...     11/03/04   \n",
       "\n",
       "     total_sales                                                url  \n",
       "0  <b>11.78m</b>  http://www.vgchartz.com/game/34267/pokemon-hea...  \n",
       "1   <b>7.96m</b>  http://www.vgchartz.com/game/17805/the-sims-3/...  \n",
       "2   <b>6.31m</b>  http://www.vgchartz.com/game/82916/fifa-15/?re...  \n",
       "3   <b>3.07m</b>  http://www.vgchartz.com/game/13813/saints-row-...  \n",
       "4   <b>2.57m</b>  http://www.vgchartz.com/game/6406/ratchet-amp-...  "
      ]
     },
     "execution_count": 6,
     "metadata": {},
     "output_type": "execute_result"
    }
   ],
   "source": [
    "df = pd.read_csv('items_sgames_4.csv')\n",
    "df.head()"
   ]
  },
  {
   "cell_type": "markdown",
   "metadata": {},
   "source": [
    "# Cleaning scraped data"
   ]
  },
  {
   "cell_type": "code",
   "execution_count": 7,
   "metadata": {},
   "outputs": [],
   "source": [
    "#cleaning df content\n",
    "#genre\n",
    "df['genre'] = df['genre'].apply(lambda x: x.replace('<p>',''))\n",
    "df['genre'] = df['genre'].apply(lambda x: x.replace('</p>',''))\n",
    "# random column that appeared\n",
    "df = df.drop(columns=['_type'])\n",
    "#total_sales\n",
    "df['total_sales'] = df['total_sales'].apply(lambda x: x.replace('<b>',''))\n",
    "df['total_sales'] = df['total_sales'].apply(lambda x: x.replace('</b>',''))"
   ]
  },
  {
   "cell_type": "code",
   "execution_count": 8,
   "metadata": {},
   "outputs": [],
   "source": [
    "# Cleaning Rating data\n",
    "df['ratings'] = df['ratings'].fillna(0)\n",
    "df['ratings'] = df['ratings'].astype(str)"
   ]
  },
  {
   "cell_type": "code",
   "execution_count": 9,
   "metadata": {},
   "outputs": [],
   "source": [
    "df['ratings'] = df['ratings'].apply(lambda x: x.replace('<center>  <img src=\"',''))\n",
    "df['ratings'] = df['ratings'].apply(lambda x: x.replace('\" height=\"65\" align=\"middle\">\\xa0  <img src=\"',';'))\n",
    "df['ratings'] = df['ratings'].apply(lambda x: x.replace('\" height=\"65\" align=\"middle\">\\xa0  </center>',''))\n",
    "\n",
    "df['ratings'] = df['ratings'].apply(lambda x: x.replace('\" height=\"65\" align=\"middle\">\\xc2\\xa0  <img src=\"',';'))\n",
    "df['ratings'] = df['ratings'].apply(lambda x: x.replace('\" height=\"65\" align=\"middle\">\\xc2\\xa0  </center>',';'))"
   ]
  },
  {
   "cell_type": "code",
   "execution_count": 10,
   "metadata": {},
   "outputs": [],
   "source": [
    "#CERO\n",
    "df['ratings'] = df['ratings'].apply(lambda x: x.replace(\n",
    "    'http://www.vgchartz.com/games/images/ratings/cero/CERO_a.png',''))\n",
    "df['ratings'] = df['ratings'].apply(lambda x: x.replace(\n",
    "    'http://www.vgchartz.com/games/images/ratings/cero/CERO_b.png',''))\n",
    "df['ratings'] = df['ratings'].apply(lambda x: x.replace(\n",
    "    'http://www.vgchartz.com/games/images/ratings/cero/CERO_c.png',''))\n",
    "df['ratings'] = df['ratings'].apply(lambda x: x.replace(\n",
    "    'http://www.vgchartz.com/games/images/ratings/cero/CERO_d.png',''))\n",
    "df['ratings'] = df['ratings'].apply(lambda x: x.replace(\n",
    "    'http://www.vgchartz.com/games/images/ratings/cero/CERO_z.png',''))\n",
    "df['ratings'] = df['ratings'].apply(lambda x: x.replace(\n",
    "    'http://www.vgchartz.com/games/images/ratings/cero/CERO_rp.png',''))\n",
    "df['ratings'] = df['ratings'].apply(lambda x: x.replace(\n",
    "    'http://www.vgchartz.com/games/images/ratings/cero/CERO_statistical.png',''))\n",
    "\n",
    "\n",
    "#PEGI\n",
    "df['ratings'] = df['ratings'].apply(lambda x: x.replace(\n",
    "    'http://www.vgchartz.com/games/images/ratings/pegi/PEGI_3.png',''))\n",
    "df['ratings'] = df['ratings'].apply(lambda x: x.replace(\n",
    "    'http://www.vgchartz.com/games/images/ratings/pegi/PEGI_18.png',''))\n",
    "df['ratings'] = df['ratings'].apply(lambda x: x.replace(\n",
    "    'http://www.vgchartz.com/games/images/ratings/pegi/PEGI_12.png',''))\n",
    "df['ratings'] = df['ratings'].apply(lambda x: x.replace(\n",
    "    'http://www.vgchartz.com/games/images/ratings/pegi/PEGI_16.png',''))\n",
    "df['ratings'] = df['ratings'].apply(lambda x: x.replace(\n",
    "    'http://www.vgchartz.com/games/images/ratings/pegi/PEGI_7.png',''))"
   ]
  },
  {
   "cell_type": "code",
   "execution_count": 11,
   "metadata": {},
   "outputs": [],
   "source": [
    "#ESRB\n",
    "df['ratings'] = df['ratings'].apply(lambda x: x.replace(\n",
    "    'http://www.vgchartz.com/games/images/ratings/esrb/ESRB_e.png','E'))\n",
    "df['ratings'] = df['ratings'].apply(lambda x: x.replace(\n",
    "    'http://www.vgchartz.com/games/images/ratings/esrb/ESRB_ec.png','EC'))\n",
    "df['ratings'] = df['ratings'].apply(lambda x: x.replace(\n",
    "    'http://www.vgchartz.com/games/images/ratings/esrb/ESRB_e10.png','E10'))\n",
    "df['ratings'] = df['ratings'].apply(lambda x: x.replace(\n",
    "    'http://www.vgchartz.com/games/images/ratings/esrb/ESRB_t.png','T'))\n",
    "df['ratings'] = df['ratings'].apply(lambda x: x.replace(\n",
    "    'http://www.vgchartz.com/games/images/ratings/esrb/ESRB_m.png','M'))\n",
    "df['ratings'] = df['ratings'].apply(lambda x: x.replace(\n",
    "    'http://www.vgchartz.com/games/images/ratings/esrb/ESRB_ao.png','AO'))\n",
    "df['ratings'] = df['ratings'].apply(lambda x: x.replace(\n",
    "    'http://www.vgchartz.com/games/images/ratings/esrb/ESRB_rp.png','RP'))"
   ]
  },
  {
   "cell_type": "code",
   "execution_count": 12,
   "metadata": {},
   "outputs": [],
   "source": [
    "df['ratings'] = df['ratings'].apply(lambda x: x.replace(\n",
    "    ';',''))\n",
    "# df['ratings'].unique()"
   ]
  },
  {
   "cell_type": "code",
   "execution_count": 13,
   "metadata": {},
   "outputs": [],
   "source": [
    "# drop row if release_date is invalid\n",
    "df = df[df.release_date != '(Add Date)']\n",
    "df = df[df.release_date != 'Cancelled']\n",
    "df = df[df.release_date != 'TBA']\n",
    "# formate release_date column\n",
    "from datetime import datetime\n",
    "df['release_date'] = df['release_date'].apply(lambda x: \n",
    "                                              datetime.strptime(x, '%m/%d/%y'))"
   ]
  },
  {
   "cell_type": "code",
   "execution_count": 14,
   "metadata": {},
   "outputs": [],
   "source": [
    "# create column 'date', with distance of the release date and today\n",
    "today = datetime.today()\n",
    "df['time_delta'] = df['release_date'].apply(lambda x: (today-x).days)"
   ]
  },
  {
   "cell_type": "code",
   "execution_count": 15,
   "metadata": {},
   "outputs": [],
   "source": [
    "# eliminate m and transform the total_sales column into value\n",
    "df['total_sales'] = df['total_sales'].apply(lambda x: x[:-1])\n",
    "df['total_sales'] = df['total_sales'].apply(lambda x: float(x))"
   ]
  },
  {
   "cell_type": "code",
   "execution_count": 16,
   "metadata": {},
   "outputs": [],
   "source": [
    "#drop url column, not necessary\n",
    "df = df.drop(columns=['url'])"
   ]
  },
  {
   "cell_type": "code",
   "execution_count": 17,
   "metadata": {},
   "outputs": [],
   "source": [
    "#eliminate rows with invalid data for genre\n",
    "df['GeCheck'] = df['genre'].apply(lambda x: x[:4])\n",
    "df = df[df['GeCheck'] != '<a h']\n",
    "df = df[df['GeCheck'] != '<img']\n",
    "df = df.drop(columns=['GeCheck'])"
   ]
  },
  {
   "cell_type": "code",
   "execution_count": 18,
   "metadata": {},
   "outputs": [],
   "source": [
    "#drop critic review cause we don't have a significant amount of values populated\n",
    "df = df.drop(columns=['critic_review'])"
   ]
  },
  {
   "cell_type": "code",
   "execution_count": 19,
   "metadata": {},
   "outputs": [],
   "source": [
    "df['year'] = df['release_date'].apply(lambda x: x.year)\n",
    "df['month'] = df['release_date'].apply(lambda x: x.month)"
   ]
  },
  {
   "cell_type": "code",
   "execution_count": 20,
   "metadata": {},
   "outputs": [],
   "source": [
    "#eliminate rows with no genre\n",
    "df = df[df['genre'] != '\\n        ']"
   ]
  },
  {
   "cell_type": "code",
   "execution_count": 21,
   "metadata": {},
   "outputs": [],
   "source": [
    "genre_sales = df.groupby(['genre']).total_sales.sum().reset_index()\n",
    "count_games_genre = df.groupby(['genre']).name.count().reset_index()\n",
    "genre_sales = genre_sales.merge(count_games_genre, left_on='genre', right_on='genre', how='outer')\n",
    "genre_sales['game_count'] = genre_sales['name']\n",
    "genre_sales = genre_sales.drop(columns=['name'])\n",
    "genre_sales['average_sales_per_game'] = genre_sales['total_sales']/genre_sales['game_count']\n",
    "genre_sales = genre_sales.sort_values('average_sales_per_game', ascending=False)\n",
    "# genre_sales"
   ]
  },
  {
   "cell_type": "code",
   "execution_count": 22,
   "metadata": {},
   "outputs": [],
   "source": [
    "df = df[df['platform'] != 'PC']"
   ]
  },
  {
   "cell_type": "code",
   "execution_count": 23,
   "metadata": {},
   "outputs": [],
   "source": [
    "df.to_csv('df_scrapy.csv')"
   ]
  },
  {
   "cell_type": "code",
   "execution_count": 24,
   "metadata": {},
   "outputs": [],
   "source": [
    "df=df.merge(kaggle,on='name', how='left')"
   ]
  },
  {
   "cell_type": "code",
   "execution_count": 25,
   "metadata": {},
   "outputs": [],
   "source": [
    "df = df.dropna()"
   ]
  },
  {
   "cell_type": "code",
   "execution_count": 26,
   "metadata": {},
   "outputs": [
    {
     "data": {
      "text/plain": [
       "array([[<matplotlib.axes._subplots.AxesSubplot object at 0x11a217f28>]],\n",
       "      dtype=object)"
      ]
     },
     "execution_count": 26,
     "metadata": {},
     "output_type": "execute_result"
    },
    {
     "data": {
      "image/png": "[encoded data removed]",
      "text/plain": [
       "<Figure size 432x288 with 1 Axes>"
      ]
     },
     "metadata": {},
     "output_type": "display_data"
    }
   ],
   "source": [
    "df.hist(column=['total_sales'])"
   ]
  },
  {
   "cell_type": "code",
   "execution_count": 27,
   "metadata": {},
   "outputs": [
    {
     "data": {
      "text/html": [
       "<div>\n",
       "<style scoped>\n",
       "    .dataframe tbody tr th:only-of-type {\n",
       "        vertical-align: middle;\n",
       "    }\n",
       "\n",
       "    .dataframe tbody tr th {\n",
       "        vertical-align: top;\n",
       "    }\n",
       "\n",
       "    .dataframe thead th {\n",
       "        text-align: right;\n",
       "    }\n",
       "</style>\n",
       "<table border=\"1\" class=\"dataframe\">\n",
       "  <thead>\n",
       "    <tr style=\"text-align: right;\">\n",
       "      <th></th>\n",
       "      <th>genre</th>\n",
       "      <th>name</th>\n",
       "      <th>platform</th>\n",
       "      <th>ratings</th>\n",
       "      <th>release_date</th>\n",
       "      <th>total_sales</th>\n",
       "      <th>time_delta</th>\n",
       "      <th>year</th>\n",
       "      <th>month</th>\n",
       "      <th>Rank</th>\n",
       "      <th>Publisher</th>\n",
       "      <th>log_total_sales</th>\n",
       "    </tr>\n",
       "  </thead>\n",
       "  <tbody>\n",
       "    <tr>\n",
       "      <th>1</th>\n",
       "      <td>Action</td>\n",
       "      <td>Saints Row 2</td>\n",
       "      <td>X360</td>\n",
       "      <td>M</td>\n",
       "      <td>2008-10-14</td>\n",
       "      <td>3.07</td>\n",
       "      <td>3653</td>\n",
       "      <td>2008</td>\n",
       "      <td>10</td>\n",
       "      <td>462.0</td>\n",
       "      <td>THQ</td>\n",
       "      <td>1.403643</td>\n",
       "    </tr>\n",
       "    <tr>\n",
       "      <th>2</th>\n",
       "      <td>Platform</td>\n",
       "      <td>Ratchet &amp; Clank: Up Your Arsenal</td>\n",
       "      <td>PS2</td>\n",
       "      <td>T</td>\n",
       "      <td>2004-11-03</td>\n",
       "      <td>2.57</td>\n",
       "      <td>5094</td>\n",
       "      <td>2004</td>\n",
       "      <td>11</td>\n",
       "      <td>598.0</td>\n",
       "      <td>Sony Computer Entertainment</td>\n",
       "      <td>1.272566</td>\n",
       "    </tr>\n",
       "    <tr>\n",
       "      <th>3</th>\n",
       "      <td>Action</td>\n",
       "      <td>Dynasty Warriors 4</td>\n",
       "      <td>PS2</td>\n",
       "      <td>T</td>\n",
       "      <td>2003-03-25</td>\n",
       "      <td>2.11</td>\n",
       "      <td>5683</td>\n",
       "      <td>2003</td>\n",
       "      <td>3</td>\n",
       "      <td>785.0</td>\n",
       "      <td>Tecmo Koei</td>\n",
       "      <td>1.134623</td>\n",
       "    </tr>\n",
       "    <tr>\n",
       "      <th>4</th>\n",
       "      <td>Sports</td>\n",
       "      <td>Tony Hawk's Pro Skater</td>\n",
       "      <td>N64</td>\n",
       "      <td>E</td>\n",
       "      <td>2000-02-29</td>\n",
       "      <td>2.11</td>\n",
       "      <td>6803</td>\n",
       "      <td>2000</td>\n",
       "      <td>2</td>\n",
       "      <td>203.0</td>\n",
       "      <td>Activision</td>\n",
       "      <td>1.134623</td>\n",
       "    </tr>\n",
       "    <tr>\n",
       "      <th>5</th>\n",
       "      <td>Role-Playing</td>\n",
       "      <td>Super Mario RPG: Legend of the Seven Stars</td>\n",
       "      <td>SNES</td>\n",
       "      <td>E</td>\n",
       "      <td>1996-05-13</td>\n",
       "      <td>2.14</td>\n",
       "      <td>8190</td>\n",
       "      <td>1996</td>\n",
       "      <td>5</td>\n",
       "      <td>764.0</td>\n",
       "      <td>Nintendo</td>\n",
       "      <td>1.144223</td>\n",
       "    </tr>\n",
       "  </tbody>\n",
       "</table>\n",
       "</div>"
      ],
      "text/plain": [
       "          genre                                        name platform ratings  \\\n",
       "1        Action                                Saints Row 2     X360       M   \n",
       "2      Platform            Ratchet & Clank: Up Your Arsenal      PS2       T   \n",
       "3        Action                          Dynasty Warriors 4      PS2       T   \n",
       "4        Sports                      Tony Hawk's Pro Skater      N64       E   \n",
       "5  Role-Playing  Super Mario RPG: Legend of the Seven Stars     SNES       E   \n",
       "\n",
       "  release_date  total_sales  time_delta  year  month   Rank  \\\n",
       "1   2008-10-14         3.07        3653  2008     10  462.0   \n",
       "2   2004-11-03         2.57        5094  2004     11  598.0   \n",
       "3   2003-03-25         2.11        5683  2003      3  785.0   \n",
       "4   2000-02-29         2.11        6803  2000      2  203.0   \n",
       "5   1996-05-13         2.14        8190  1996      5  764.0   \n",
       "\n",
       "                     Publisher  log_total_sales  \n",
       "1                          THQ         1.403643  \n",
       "2  Sony Computer Entertainment         1.272566  \n",
       "3                   Tecmo Koei         1.134623  \n",
       "4                   Activision         1.134623  \n",
       "5                     Nintendo         1.144223  "
      ]
     },
     "execution_count": 27,
     "metadata": {},
     "output_type": "execute_result"
    }
   ],
   "source": [
    "from numpy import log\n",
    "df['log_total_sales'] = log(df['total_sales'].apply(lambda x: x+1))\n",
    "df.head()"
   ]
  },
  {
   "cell_type": "code",
   "execution_count": 28,
   "metadata": {},
   "outputs": [],
   "source": [
    "# changing the Publisher name for those 'unknown'publishers\n",
    "def func_unknown_pub(row):\n",
    "    if row['Publisher'] == 'Unknown':\n",
    "        return 'others'\n",
    "    else:\n",
    "        return row['Publisher']\n",
    "    \n",
    "df.Publisher = df.apply(func_unknown_pub, axis=1)"
   ]
  },
  {
   "cell_type": "code",
   "execution_count": 29,
   "metadata": {},
   "outputs": [],
   "source": [
    "# eliminate some errors\n",
    "df = df[df['release_date'] < '2018-12']"
   ]
  },
  {
   "cell_type": "code",
   "execution_count": 30,
   "metadata": {},
   "outputs": [],
   "source": [
    "df_original = df\n",
    "df_original = df_original[df['platform'] != 'PC']\n",
    "df_original.to_csv('df_original.csv')"
   ]
  },
  {
   "cell_type": "markdown",
   "metadata": {},
   "source": [
    "# Feature Engineering"
   ]
  },
  {
   "cell_type": "markdown",
   "metadata": {},
   "source": [
    "Publisher size "
   ]
  },
  {
   "cell_type": "code",
   "execution_count": 31,
   "metadata": {},
   "outputs": [],
   "source": [
    "# start the transformation based on publisher\n",
    "fd = (df.groupby('Publisher').\n",
    " total_sales.sum().\n",
    " reset_index().\n",
    " sort_values('total_sales', ascending=False))\n",
    "fd = fd.rename(columns={'total_sales':'total_sales_by_publisher'})"
   ]
  },
  {
   "cell_type": "code",
   "execution_count": 32,
   "metadata": {},
   "outputs": [
    {
     "data": {
      "text/plain": [
       "0.33499999999999996"
      ]
     },
     "execution_count": 32,
     "metadata": {},
     "output_type": "execute_result"
    }
   ],
   "source": [
    "np.percentile(fd.total_sales_by_publisher, 50)"
   ]
  },
  {
   "cell_type": "code",
   "execution_count": 33,
   "metadata": {},
   "outputs": [],
   "source": [
    "publisher_df = (df.groupby('Publisher').\n",
    " log_total_sales.count().\n",
    " reset_index().\n",
    " sort_values('log_total_sales', ascending=False))\n",
    "\n",
    "publisher_df = publisher_df.rename(columns={'log_total_sales':'games_by_publisher'})\n",
    "publisher_df = publisher_df.merge(fd, on='Publisher', how='left')\n",
    "# publisher_df = publisher_df.drop(columns='total_sales')"
   ]
  },
  {
   "cell_type": "code",
   "execution_count": 34,
   "metadata": {},
   "outputs": [
    {
     "data": {
      "text/plain": [
       "count    190.000000\n",
       "mean      12.167263\n",
       "std       55.431108\n",
       "min        0.010000\n",
       "25%        0.100000\n",
       "50%        0.335000\n",
       "75%        1.600000\n",
       "max      649.820000\n",
       "Name: total_sales_by_publisher, dtype: float64"
      ]
     },
     "execution_count": 34,
     "metadata": {},
     "output_type": "execute_result"
    }
   ],
   "source": [
    "publisher_df.total_sales_by_publisher.describe()"
   ]
  },
  {
   "cell_type": "code",
   "execution_count": 35,
   "metadata": {},
   "outputs": [
    {
     "data": {
      "text/plain": [
       "games_by_publisher          2.000\n",
       "total_sales_by_publisher    0.335\n",
       "dtype: float64"
      ]
     },
     "execution_count": 35,
     "metadata": {},
     "output_type": "execute_result"
    }
   ],
   "source": [
    "publisher_df.median()"
   ]
  },
  {
   "cell_type": "code",
   "execution_count": 36,
   "metadata": {},
   "outputs": [],
   "source": [
    "df = df.merge(publisher_df,on='Publisher')"
   ]
  },
  {
   "cell_type": "markdown",
   "metadata": {},
   "source": [
    "GENRE"
   ]
  },
  {
   "cell_type": "code",
   "execution_count": 37,
   "metadata": {},
   "outputs": [],
   "source": [
    "# start the transformation based on publisher\n",
    "gd = (df.groupby('genre').\n",
    " total_sales.count().\n",
    " reset_index().\n",
    " sort_values('total_sales', ascending=False))\n",
    "gd = gd.rename(columns={'total_sales':'total_games_by_genre'})"
   ]
  },
  {
   "cell_type": "code",
   "execution_count": 38,
   "metadata": {},
   "outputs": [],
   "source": [
    "df = df.merge(gd,on='genre')"
   ]
  },
  {
   "cell_type": "code",
   "execution_count": 39,
   "metadata": {},
   "outputs": [],
   "source": [
    "# changing the Publisher name for those publisher that have released less than 10 games\n",
    "def func_least_pop_pub(row):\n",
    "    if row['total_games_by_genre'] < 10:\n",
    "        return 'Others'\n",
    "    else:\n",
    "        return row['genre']\n",
    "    \n",
    "df.genre = df.apply(func_least_pop_pub, axis=1)"
   ]
  },
  {
   "cell_type": "code",
   "execution_count": 40,
   "metadata": {},
   "outputs": [],
   "source": [
    "# set a category for publisher\n",
    "# Q1 - below 0.1 million sales\n",
    "# Q2 - between 0.1 and 0.33\n",
    "# Q3 - more than 1.57 million sales\n",
    "def func_pub_size(row):\n",
    "    if row['total_sales_by_publisher'] <= 0.1:\n",
    "        return '25%_Publisher'\n",
    "    elif (row['total_sales_by_publisher'] > 0.1) & (row['total_sales_by_publisher'] < 0.33):\n",
    "        return '50%_Publisher'\n",
    "    elif row['total_sales_by_publisher'] >= 0.33:\n",
    "        return '75%_Publisher'\n",
    "    \n",
    "df['publisher_Quartile(total_sales)'] = df.apply(func_pub_size, axis=1)"
   ]
  },
  {
   "cell_type": "code",
   "execution_count": 41,
   "metadata": {},
   "outputs": [],
   "source": [
    "# # libraries\n",
    "# import matplotlib.pyplot as plt\n",
    "# import numpy as np\n",
    " \n",
    "# # create data\n",
    "# x = publisher_df['Publ\\isher']\n",
    "# y = publisher_df['games_by_publisher']\n",
    "# z = publisher_df['total_sales_by_publisher']\n",
    " \n",
    "# # Change color with c and alpha\n",
    "# plt.scatter(x, y, s=z, c=\"red\", alpha=0.4)\n",
    "# #plt.show()"
   ]
  },
  {
   "cell_type": "markdown",
   "metadata": {},
   "source": [
    "# engineer a feature with the average of games sold for each genre\n",
    "genre = df.groupby(['genre']).name.count().reset_index()\n",
    "genre = genre.rename(columns={'name':'count_games'})\n",
    "genre2 = df.groupby(['genre']).total_sales.sum().reset_index()\n",
    "genre = genre.merge(genre2, on='genre', how='left')\n",
    "genre['genre_average_sold(million)'] = genre['total_sales'] / genre['count_games']\n",
    "genre.sort_values('genre_average_sold(million)', ascending=False)"
   ]
  },
  {
   "cell_type": "code",
   "execution_count": 42,
   "metadata": {},
   "outputs": [],
   "source": [
    "df.to_csv('df_all_quant.csv')"
   ]
  },
  {
   "cell_type": "code",
   "execution_count": 43,
   "metadata": {},
   "outputs": [],
   "source": [
    "df2 = df[df['publisher_Quartile(total_sales)'] != '25%_Publisher']"
   ]
  },
  {
   "cell_type": "code",
   "execution_count": 44,
   "metadata": {},
   "outputs": [],
   "source": [
    "df2.to_csv('df_above_med.csv')"
   ]
  },
  {
   "cell_type": "markdown",
   "metadata": {},
   "source": [
    "# !!!!"
   ]
  },
  {
   "cell_type": "code",
   "execution_count": 45,
   "metadata": {},
   "outputs": [],
   "source": [
    "# Transform categorical features into values\n",
    "gm = pd.get_dummies(df[['genre','platform','ratings', 'time_delta','Publisher']]) #can just apply it to the whole df\n",
    "gm['target'] = df['log_total_sales']\n",
    "gm['rank_position'] = df['Rank']"
   ]
  },
  {
   "cell_type": "code",
   "execution_count": 46,
   "metadata": {},
   "outputs": [
    {
     "data": {
      "text/plain": [
       "Text(-4.375, 0.5, 'Sales Volume in Millions (log)')"
      ]
     },
     "execution_count": 46,
     "metadata": {},
     "output_type": "execute_result"
    },
    {
     "data": {
      "image/png": "[encoded data removed]",
      "text/plain": [
       "<Figure size 180x180 with 1 Axes>"
      ]
     },
     "metadata": {},
     "output_type": "display_data"
    }
   ],
   "source": [
    "import seaborn as sns\n",
    "sns.pairplot(data=gm,\n",
    "                  x_vars=['time_delta'], y_vars=['target'])\n",
    "plt.xlabel('Days from today')\n",
    "plt.ylabel('Sales Volume in Millions (log)')"
   ]
  },
  {
   "cell_type": "code",
   "execution_count": 47,
   "metadata": {},
   "outputs": [
    {
     "data": {
      "text/plain": [
       "Index(['time_delta', 'genre_Action', 'genre_Action-Adventure',\n",
       "       'genre_Adventure', 'genre_Fighting', 'genre_Misc', 'genre_Others',\n",
       "       'genre_Platform', 'genre_Puzzle', 'genre_Racing',\n",
       "       ...\n",
       "       'Publisher_Warner Bros. Interactive Entertainment',\n",
       "       'Publisher_Xicat Interactive', 'Publisher_Xing Entertainment',\n",
       "       'Publisher_Xplosiv', 'Publisher_Xseed Games',\n",
       "       'Publisher_Zoo Digital Publishing', 'Publisher_Zushi Games',\n",
       "       'Publisher_others', 'target', 'rank_position'],\n",
       "      dtype='object', length=239)"
      ]
     },
     "execution_count": 47,
     "metadata": {},
     "output_type": "execute_result"
    }
   ],
   "source": [
    "gm.columns"
   ]
  },
  {
   "cell_type": "code",
   "execution_count": null,
   "metadata": {},
   "outputs": [],
   "source": [
    "# gm.to_csv('AnalysisData.csv')"
   ]
  }
 ],
 "metadata": {
  "kernelspec": {
   "display_name": "Python 3",
   "language": "python",
   "name": "python3"
  },
  "language_info": {
   "codemirror_mode": {
    "name": "ipython",
    "version": 3
   },
   "file_extension": ".py",
   "mimetype": "text/x-python",
   "name": "python",
   "nbconvert_exporter": "python",
   "pygments_lexer": "ipython3",
   "version": "3.6.5"
  }
 },
 "nbformat": 4,
 "nbformat_minor": 2
}
